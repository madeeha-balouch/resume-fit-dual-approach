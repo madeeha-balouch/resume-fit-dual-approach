{
 "cells": [
  {
   "cell_type": "code",
   "execution_count": 1,
   "id": "7e62328f-e250-4905-8b1f-b3ddd32b52ec",
   "metadata": {},
   "outputs": [
    {
     "name": "stdout",
     "output_type": "stream",
     "text": [
      "Requirement already satisfied: nltk in ./anaconda3/envs/resume-ai/lib/python3.11/site-packages (3.9.1)\n",
      "Requirement already satisfied: click in ./anaconda3/envs/resume-ai/lib/python3.11/site-packages (from nltk) (8.1.8)\n",
      "Requirement already satisfied: joblib in ./anaconda3/envs/resume-ai/lib/python3.11/site-packages (from nltk) (1.4.2)\n",
      "Requirement already satisfied: regex>=2021.8.3 in ./anaconda3/envs/resume-ai/lib/python3.11/site-packages (from nltk) (2024.11.6)\n",
      "Requirement already satisfied: tqdm in ./anaconda3/envs/resume-ai/lib/python3.11/site-packages (from nltk) (4.67.1)\n",
      "Note: you may need to restart the kernel to use updated packages.\n"
     ]
    }
   ],
   "source": [
    "pip install nltk"
   ]
  },
  {
   "cell_type": "code",
   "execution_count": 2,
   "id": "73544e2b-d53f-437c-8625-9c13a55d616a",
   "metadata": {},
   "outputs": [
    {
     "name": "stdout",
     "output_type": "stream",
     "text": [
      "Requirement already satisfied: imbalanced-learn in ./anaconda3/envs/resume-ai/lib/python3.11/site-packages (0.13.0)\n",
      "Requirement already satisfied: numpy<3,>=1.24.3 in ./anaconda3/envs/resume-ai/lib/python3.11/site-packages (from imbalanced-learn) (1.26.4)\n",
      "Requirement already satisfied: scipy<2,>=1.10.1 in ./anaconda3/envs/resume-ai/lib/python3.11/site-packages (from imbalanced-learn) (1.13.1)\n",
      "Requirement already satisfied: scikit-learn<2,>=1.3.2 in ./anaconda3/envs/resume-ai/lib/python3.11/site-packages (from imbalanced-learn) (1.6.1)\n",
      "Requirement already satisfied: sklearn-compat<1,>=0.1 in ./anaconda3/envs/resume-ai/lib/python3.11/site-packages (from imbalanced-learn) (0.1.3)\n",
      "Requirement already satisfied: joblib<2,>=1.1.1 in ./anaconda3/envs/resume-ai/lib/python3.11/site-packages (from imbalanced-learn) (1.4.2)\n",
      "Requirement already satisfied: threadpoolctl<4,>=2.0.0 in ./anaconda3/envs/resume-ai/lib/python3.11/site-packages (from imbalanced-learn) (3.6.0)\n",
      "Note: you may need to restart the kernel to use updated packages.\n"
     ]
    }
   ],
   "source": [
    "pip install imbalanced-learn"
   ]
  },
  {
   "cell_type": "code",
   "execution_count": 4,
   "id": "23dd1673-aaf2-4a71-8bb9-f491f9c69a50",
   "metadata": {},
   "outputs": [
    {
     "name": "stderr",
     "output_type": "stream",
     "text": [
      "[nltk_data] Downloading package punkt to /home/aaiteam4/nltk_data...\n",
      "[nltk_data]   Unzipping tokenizers/punkt.zip.\n"
     ]
    },
    {
     "data": {
      "text/plain": [
       "True"
      ]
     },
     "execution_count": 4,
     "metadata": {},
     "output_type": "execute_result"
    }
   ],
   "source": [
    "import nltk\n",
    "\n",
    "nltk.download('punkt')"
   ]
  },
  {
   "cell_type": "code",
   "execution_count": 3,
   "id": "8b6b7ca6-da53-4312-a76f-c8f8adad1891",
   "metadata": {},
   "outputs": [],
   "source": [
    "import os\n",
    "os.environ[\"TOKENIZERS_PARALLELISM\"] = \"false\""
   ]
  },
  {
   "cell_type": "code",
   "execution_count": 4,
   "id": "0c9c8f06-ca78-4b1e-877b-5c540efeb87b",
   "metadata": {},
   "outputs": [
    {
     "name": "stderr",
     "output_type": "stream",
     "text": [
      "/home/aaiteam4/anaconda3/envs/resume-ai/lib/python3.11/site-packages/requests/__init__.py:86: RequestsDependencyWarning: Unable to find acceptable character detection dependency (chardet or charset_normalizer).\n",
      "  warnings.warn(\n"
     ]
    }
   ],
   "source": [
    "import pandas as pd\n",
    "from imblearn.over_sampling import SMOTE\n",
    "from collections import Counter\n",
    "from datasets import load_dataset\n",
    "from sklearn.metrics.pairwise import cosine_similarity\n",
    "import re\n",
    "import string\n",
    "import nltk\n",
    "from nltk.corpus import stopwords\n",
    "from sentence_transformers import SentenceTransformer\n",
    "from sklearn.model_selection import train_test_split\n",
    "from sklearn.naive_bayes import GaussianNB\n",
    "from sklearn.metrics import (\n",
    "    accuracy_score,\n",
    "    precision_score,\n",
    "    recall_score,\n",
    "    f1_score,\n",
    "    confusion_matrix,\n",
    "    classification_report,\n",
    ")\n",
    "import numpy as np\n",
    "\n",
    "# Download necessary NLTK data (run this once)\n",
    "try:\n",
    "    stopwords.words('english')\n",
    "except LookupError:\n",
    "    nltk.download('stopwords')\n",
    "try:\n",
    "    nltk.data.find('tokenizers/punkt')\n",
    "except nltk.downloader.DownloadError:\n",
    "    nltk.download('punkt')"
   ]
  },
  {
   "cell_type": "code",
   "execution_count": 5,
   "id": "69a1a160-73ce-4c02-8756-90c93bb9598e",
   "metadata": {},
   "outputs": [],
   "source": [
    "from sklearn.model_selection import GridSearchCV"
   ]
  },
  {
   "cell_type": "code",
   "execution_count": 6,
   "id": "85be41dd-5be1-44d3-a60b-1d9d82ff3fbb",
   "metadata": {},
   "outputs": [
    {
     "name": "stdout",
     "output_type": "stream",
     "text": [
      "Dataset 'cnamuangtoun/resume-job-description-fit' loaded successfully. Shape: (6241, 3)\n",
      "Column names in the DataFrame:\n",
      "Index(['resume_text', 'job_description_text', 'label'], dtype='object')\n"
     ]
    }
   ],
   "source": [
    "# 1. Get the dataset from Hugging Face\n",
    "dataset_name = \"cnamuangtoun/resume-job-description-fit\"\n",
    "try:\n",
    "    dataset = load_dataset(dataset_name)\n",
    "    df = dataset['train'].to_pandas()\n",
    "    print(f\"Dataset '{dataset_name}' loaded successfully. Shape: {df.shape}\")\n",
    "    print(\"Column names in the DataFrame:\")\n",
    "    print(df.columns)\n",
    "    # We need to identify the correct column names for text and labels\n",
    "    TEXT_COLUMN = None  # We will update this based on the output\n",
    "    LABEL_COLUMN = None # We will update this based on the output\n",
    "except Exception as e:\n",
    "    print(f\"Error loading dataset '{dataset_name}': {e}\")\n",
    "    exit()"
   ]
  },
  {
   "cell_type": "code",
   "execution_count": 7,
   "id": "e1b0fe74-5f99-4538-a487-48c792e2aca2",
   "metadata": {},
   "outputs": [
    {
     "name": "stdout",
     "output_type": "stream",
     "text": [
      "Applying preprocessing...\n",
      "Preprocessing complete.\n",
      "Unique labels and their encoding: {'No Fit': 0, 'Potential Fit': 1, 'Good Fit': 2}\n",
      "Encoded labels: [0 1 2]\n"
     ]
    }
   ],
   "source": [
    "# 2. Preprocessing\n",
    "TEXT_COLUMN_RESUME = 'resume_text'\n",
    "TEXT_COLUMN_JOB = 'job_description_text'\n",
    "LABEL_COLUMN = 'label'\n",
    "\n",
    "stop_words = set(stopwords.words('english'))\n",
    "custom_stopwords = ['e.g.', 'i.e.', 'etc.', 'the', 'and', 'a', 'an', 'in', 'of', 'to'] # Add more if needed\n",
    "stop_words.update(custom_stopwords)\n",
    "\n",
    "def preprocess_text(text):\n",
    "    if isinstance(text, str):\n",
    "        # Lowercase\n",
    "        text = text.lower()\n",
    "        # Remove email addresses\n",
    "        text = re.sub(r'\\S*@\\S*\\s?', '', text)\n",
    "        # Remove non-ASCII characters\n",
    "        text = re.sub(r'[^\\x00-\\x7F]+', '', text)\n",
    "        # Remove numbers (keeping those with % $ or year format)\n",
    "        text = re.sub(r'(?<!\\d)(?<![\\$\\%])\\b\\d+\\b', '', text)\n",
    "        # Remove punctuation\n",
    "        text = text.translate(str.maketrans('', '', string.punctuation))\n",
    "        # Remove stopwords\n",
    "        text_tokens = text.split()\n",
    "        filtered_tokens = [w for w in text_tokens if not w in stop_words]\n",
    "        return \" \".join(filtered_tokens)\n",
    "    return \"\"\n",
    "\n",
    "print(\"Applying preprocessing...\")\n",
    "df['processed_resume'] = df[TEXT_COLUMN_RESUME].apply(preprocess_text)\n",
    "df['processed_job_description'] = df[TEXT_COLUMN_JOB].apply(preprocess_text)\n",
    "# Combine processed resume and job description for the model\n",
    "df['combined_text'] = df['processed_resume'] + ' ' + df['processed_job_description']\n",
    "df = df[df['combined_text'].str.len() > 0] # Remove rows with empty combined text\n",
    "print(\"Preprocessing complete.\")\n",
    "\n",
    "# Encode the categorical labels to numerical values\n",
    "label_mapping = {'No Fit': 0, 'Potential Fit': 1, 'Good Fit': 2}\n",
    "df['label_encoded'] = df[LABEL_COLUMN].map(label_mapping)\n",
    "print(f\"Unique labels and their encoding: {label_mapping}\")\n",
    "print(f\"Encoded labels: {df['label_encoded'].unique()}\")\n"
   ]
  },
  {
   "cell_type": "code",
   "execution_count": 8,
   "id": "5a2bd632-237b-4cf8-845d-43587405d186",
   "metadata": {},
   "outputs": [
    {
     "name": "stdout",
     "output_type": "stream",
     "text": [
      "Sentence-BERT model 'all-mpnet-base-v2' loaded.\n"
     ]
    },
    {
     "data": {
      "application/vnd.jupyter.widget-view+json": {
       "model_id": "6863eb93fef74f009e01c37c196d259b",
       "version_major": 2,
       "version_minor": 0
      },
      "text/plain": [
       "Batches:   0%|          | 0/196 [00:00<?, ?it/s]"
      ]
     },
     "metadata": {},
     "output_type": "display_data"
    },
    {
     "name": "stdout",
     "output_type": "stream",
     "text": [
      "Sentence embeddings generated.\n"
     ]
    }
   ],
   "source": [
    "# 3. Sentence-BERT Embedding\n",
    "model_name = 'all-mpnet-base-v2'\n",
    "try:\n",
    "    model = SentenceTransformer(model_name)\n",
    "    print(f\"Sentence-BERT model '{model_name}' loaded.\")\n",
    "    embeddings = model.encode(df['combined_text'].tolist(), show_progress_bar=True)\n",
    "    embeddings_df = pd.DataFrame(embeddings)\n",
    "    df = pd.concat([df.reset_index(drop=True), embeddings_df], axis=1)\n",
    "    print(\"Sentence embeddings generated.\")\n",
    "except Exception as e:\n",
    "    print(f\"Error loading or using Sentence-BERT model '{model_name}': {e}\")\n",
    "    exit()\n",
    "\n",
    "# Prepare data for the Naive Bayes model\n",
    "X = df.iloc[:, -768:] # Assuming embeddings are the last 768 columns\n",
    "y = df['label_encoded']"
   ]
  },
  {
   "cell_type": "code",
   "execution_count": 9,
   "id": "75156ec4-3889-4f0e-989c-993f419c6149",
   "metadata": {},
   "outputs": [
    {
     "name": "stdout",
     "output_type": "stream",
     "text": [
      "Calculating cosine similarity between resume and job description...\n",
      "Cosine similarity calculated.\n",
      "\n",
      "Average similarity score per class:\n",
      "label_encoded\n",
      "0    0.550505\n",
      "1    0.600906\n",
      "2    0.630188\n",
      "Name: similarity_score, dtype: float64\n"
     ]
    }
   ],
   "source": [
    "def calculate_similarity(row):\n",
    "    resume_embedding = row.iloc[-768:]  # Get the resume embedding\n",
    "    job_embedding = model.encode(row['processed_job_description']) # Encode job description\n",
    "    return cosine_similarity([resume_embedding], [job_embedding])[0][0]\n",
    "\n",
    "print(\"Calculating cosine similarity between resume and job description...\")\n",
    "df['similarity_score'] = df.apply(calculate_similarity, axis=1)\n",
    "print(\"Cosine similarity calculated.\")\n",
    "\n",
    "# Now, let's look at the distribution of similarity scores for each class\n",
    "print(\"\\nAverage similarity score per class:\")\n",
    "print(df.groupby('label_encoded')['similarity_score'].mean())\n",
    "\n",
    "# Prepare data with the similarity score as a feature\n",
    "X_with_similarity = pd.concat([df.iloc[:, -769:-1], df['similarity_score']], axis=1) # Embeddings + similarity\n",
    "y = df['label_encoded']"
   ]
  },
  {
   "cell_type": "code",
   "execution_count": 10,
   "id": "e539af95-41c5-485f-ba96-5e1da01ebc35",
   "metadata": {},
   "outputs": [
    {
     "name": "stdout",
     "output_type": "stream",
     "text": [
      "Original class distribution: Counter({0: 3143, 1: 1556, 2: 1542})\n",
      "Resampled training class distribution: Counter({1: 2485, 0: 2485, 2: 2485})\n"
     ]
    }
   ],
   "source": [
    "# Convert all column names to strings\n",
    "X_with_similarity.columns = X_with_similarity.columns.astype(str)\n",
    "\n",
    "X_train, X_test, y_train, y_test = train_test_split(X_with_similarity, y, test_size=0.2, random_state=42)\n",
    "\n",
    "print(f\"Original class distribution: {Counter(y)}\")\n",
    "\n",
    "# Initialize SMOTE\n",
    "smote = SMOTE(random_state=42)\n",
    "\n",
    "# Fit and resample the training data\n",
    "X_resampled, y_resampled = smote.fit_resample(X_train, y_train)\n",
    "\n",
    "print(f\"Resampled training class distribution: {Counter(y_resampled)}\")"
   ]
  },
  {
   "cell_type": "code",
   "execution_count": 11,
   "id": "82b83f28-73c6-4c1a-86a0-25304e5b047b",
   "metadata": {},
   "outputs": [
    {
     "name": "stdout",
     "output_type": "stream",
     "text": [
      "\n",
      "Performing hyperparameter tuning for Naive Bayes...\n",
      "Best hyperparameters for Naive Bayes: {'var_smoothing': 3.511191734215127e-05}\n",
      "Best macro F1-score on the resampled training data: 0.4165712800920267\n",
      "\n",
      "Classification Report of Naive Bayes model trained with similarity feature + SBERT Embeddings:\n",
      "              precision    recall  f1-score   support\n",
      "\n",
      "           0       0.59      0.33      0.43       658\n",
      "           1       0.26      0.34      0.29       288\n",
      "           2       0.27      0.45      0.34       303\n",
      "\n",
      "    accuracy                           0.36      1249\n",
      "   macro avg       0.37      0.37      0.35      1249\n",
      "weighted avg       0.44      0.36      0.38      1249\n",
      "\n",
      "\n",
      "Evaluation complete of Naive Bayes model trained with similarity feature.\n"
     ]
    }
   ],
   "source": [
    "# 4. Train Naive Bayes (NB) model\n",
    "# Define the parameter grid\n",
    "param_grid_nb = {'var_smoothing': np.logspace(0, -9, num=100)}\n",
    "\n",
    "# Initialize GridSearchCV\n",
    "grid_search_nb = GridSearchCV(GaussianNB(), param_grid_nb, cv=5, scoring='f1_macro', n_jobs=-1)\n",
    "\n",
    "print(\"\\nPerforming hyperparameter tuning for Naive Bayes...\")\n",
    "grid_search_nb.fit(X_resampled, y_resampled) # Use the resampled training data\n",
    "\n",
    "print(\"Best hyperparameters for Naive Bayes:\", grid_search_nb.best_params_)\n",
    "print(\"Best macro F1-score on the resampled training data:\", grid_search_nb.best_score_)\n",
    "\n",
    "# Evaluate the best model on the original test set\n",
    "best_nb_model = grid_search_nb.best_estimator_\n",
    "y_pred_tuned_nb = best_nb_model.predict(X_test)\n",
    "\n",
    "\n",
    "print(\"\\nClassification Report of Naive Bayes model trained with similarity feature + SBERT Embeddings:\")\n",
    "print(classification_report(y_test, y_pred_tuned_nb, zero_division=0))\n",
    "\n",
    "print(\"\\nEvaluation complete of Naive Bayes model trained with similarity feature.\")"
   ]
  },
  {
   "cell_type": "code",
   "execution_count": 12,
   "id": "8a433d08-386a-44d1-a8d9-e138bc8236fb",
   "metadata": {},
   "outputs": [
    {
     "data": {
      "image/png": "[encoded data removed]",
      "text/plain": [
       "<Figure size 640x480 with 2 Axes>"
      ]
     },
     "metadata": {},
     "output_type": "display_data"
    }
   ],
   "source": [
    "from sklearn.metrics import confusion_matrix, ConfusionMatrixDisplay\n",
    "import matplotlib.pyplot as plt\n",
    "\n",
    "# Generate the confusion matrix\n",
    "cm = confusion_matrix(y_test, y_pred_tuned_nb,)\n",
    "\n",
    "# Display the confusion matrix\n",
    "disp = ConfusionMatrixDisplay(confusion_matrix=cm, display_labels=best_nb_model.classes_)\n",
    "disp.plot(cmap=plt.cm.Blues)\n",
    "plt.title(\"Confusion Matrix - Naive Bayes model trained with similarity feature + SBERT Embeddings: \")\n",
    "plt.show()\n"
   ]
  },
  {
   "cell_type": "code",
   "execution_count": null,
   "id": "9ffb153b-099c-4e09-8ce2-ae8695321fab",
   "metadata": {},
   "outputs": [],
   "source": [
    "\n",
    "def compute_similarity_scores(resume_embed, jd_embed):\n",
    "    similarities = cosine_similarity([resume_embedding], [job_embedding])\n",
    "    return similarities[0, 0]  # each resume vs its own JD\n",
    "\n",
    "\n",
    "\n",
    "similarity_scores = [\n",
    "    compute_similarity_scores(X_resume_test[i], X_job_test[i])\n",
    "    for i in range(X_resume_test.shape[0])\n",
    "]\n",
    "\n",
    "\n",
    "mean_similarity = np.mean(similarity_scores)\n",
    "std_dev_similarity = np.std(similarity_scores)\n",
    "threshold = mean_similarity + 1 * std_dev_similarity\n",
    "\n",
    "#xgb_labels = xgb_predictions.map(inverse_label_mapping)\n",
    "inverse_label_mapping = {v: k for k, v in label_mapping.items()}\n",
    "xgb_labels = [inverse_label_mapping[pred] for pred in xgb_predictions]\n",
    "\n",
    "\n",
    "intersection_indices = [\n",
    "    i for i, (label, score) in enumerate(zip(xgb_labels, similarity_scores))\n",
    "    if (label == 'Good Fit' or label == 'Potential Fit') and score >= threshold\n",
    "]\n",
    "\n",
    "# Prepare color: green for intersection, gray otherwise\n",
    "colors = ['green' if i in intersection_indices else 'gray' for i in range(len(similarity_scores))]\n",
    "\n",
    "plt.figure(figsize=(12, 6))\n",
    "plt.scatter(range(len(similarity_scores)), similarity_scores, c=colors, alpha=0.7)\n",
    "plt.axhline(y=threshold, color='red', linestyle='--', label=f'Threshold = {threshold}')\n",
    "plt.xlabel('Resume Index')\n",
    "plt.ylabel('Semantic Similarity Score')\n",
    "plt.title('Resume Similarity Scores and Intersection with XGB model Predictions Using Word2vec embeddings')\n",
    "plt.legend()\n",
    "plt.tight_layout()\n",
    "plt.show()"
   ]
  }
 ],
 "metadata": {
  "kernelspec": {
   "display_name": "Python 3 (ipykernel)",
   "language": "python",
   "name": "python3"
  },
  "language_info": {
   "codemirror_mode": {
    "name": "ipython",
    "version": 3
   },
   "file_extension": ".py",
   "mimetype": "text/x-python",
   "name": "python",
   "nbconvert_exporter": "python",
   "pygments_lexer": "ipython3",
   "version": "3.11.11"
  }
 },
 "nbformat": 4,
 "nbformat_minor": 5
}
