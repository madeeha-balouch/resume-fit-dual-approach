{
 "cells": [
  {
   "cell_type": "code",
   "execution_count": 1,
   "id": "1da2edf8-e5b9-415b-9b59-6fe260b73b53",
   "metadata": {},
   "outputs": [
    {
     "name": "stderr",
     "output_type": "stream",
     "text": [
      "/home/aaiteam4/anaconda3/envs/resume-ai/lib/python3.11/site-packages/requests/__init__.py:86: RequestsDependencyWarning: Unable to find acceptable character detection dependency (chardet or charset_normalizer).\n",
      "  warnings.warn(\n"
     ]
    }
   ],
   "source": [
    "import os\n",
    "os.environ[\"TOKENIZERS_PARALLELISM\"] = \"false\"\n",
    "from sklearn.model_selection import GridSearchCV\n",
    "import pandas as pd\n",
    "from imblearn.over_sampling import SMOTE\n",
    "from collections import Counter\n",
    "from datasets import load_dataset\n",
    "from sklearn.metrics.pairwise import cosine_similarity\n",
    "import re\n",
    "import string\n",
    "import nltk\n",
    "from nltk.corpus import stopwords\n",
    "from sentence_transformers import SentenceTransformer\n",
    "from sklearn.model_selection import train_test_split\n",
    "from sklearn.naive_bayes import GaussianNB\n",
    "from sklearn.metrics import (\n",
    "    accuracy_score,\n",
    "    precision_score,\n",
    "    recall_score,\n",
    "    f1_score,\n",
    "    confusion_matrix,\n",
    "    classification_report,\n",
    ")\n",
    "import numpy as np\n",
    "\n",
    "# Download necessary NLTK data (run this once)\n",
    "try:\n",
    "    stopwords.words('english')\n",
    "except LookupError:\n",
    "    nltk.download('stopwords')\n",
    "try:\n",
    "    nltk.data.find('tokenizers/punkt')\n",
    "except nltk.downloader.DownloadError:\n",
    "    nltk.download('punkt')"
   ]
  },
  {
   "cell_type": "code",
   "execution_count": 2,
   "id": "4e196b20-d6a2-48f4-9bb5-33de8fc3395f",
   "metadata": {},
   "outputs": [],
   "source": [
    "import xgboost as xgb"
   ]
  },
  {
   "cell_type": "code",
   "execution_count": 3,
   "id": "c96ed609-0eb0-49a5-8edf-7a3b3711ac1d",
   "metadata": {},
   "outputs": [],
   "source": [
    "from sklearn.impute import SimpleImputer"
   ]
  },
  {
   "cell_type": "code",
   "execution_count": 4,
   "id": "dc4c795d-feb6-4eef-ae71-1a4ac80102c4",
   "metadata": {},
   "outputs": [
    {
     "name": "stdout",
     "output_type": "stream",
     "text": [
      "Dataset 'cnamuangtoun/resume-job-description-fit' loaded successfully. Shape: (6241, 3)\n",
      "Column names in the DataFrame:\n",
      "Index(['resume_text', 'job_description_text', 'label'], dtype='object')\n"
     ]
    }
   ],
   "source": [
    "# 1. Get the dataset from Hugging Face\n",
    "dataset_name = \"cnamuangtoun/resume-job-description-fit\"\n",
    "try:\n",
    "    dataset = load_dataset(dataset_name)\n",
    "    df = dataset['train'].to_pandas()\n",
    "    print(f\"Dataset '{dataset_name}' loaded successfully. Shape: {df.shape}\")\n",
    "    print(\"Column names in the DataFrame:\")\n",
    "    print(df.columns)\n",
    "    # We need to identify the correct column names for text and labels\n",
    "    TEXT_COLUMN = None  # We will update this based on the output\n",
    "    LABEL_COLUMN = None # We will update this based on the output\n",
    "except Exception as e:\n",
    "    print(f\"Error loading dataset '{dataset_name}': {e}\")\n",
    "    exit()"
   ]
  },
  {
   "cell_type": "code",
   "execution_count": 5,
   "id": "372f5dea-4104-4f9b-86e7-6c9f89fd14e5",
   "metadata": {},
   "outputs": [
    {
     "name": "stdout",
     "output_type": "stream",
     "text": [
      "Applying preprocessing...\n",
      "Preprocessing complete.\n",
      "Unique labels and their encoding: {'No Fit': 0, 'Potential Fit': 1, 'Good Fit': 2}\n",
      "Encoded labels: [0 1 2]\n"
     ]
    }
   ],
   "source": [
    "# 2. Preprocessing\n",
    "TEXT_COLUMN_RESUME = 'resume_text'\n",
    "TEXT_COLUMN_JOB = 'job_description_text'\n",
    "LABEL_COLUMN = 'label'\n",
    "\n",
    "stop_words = set(stopwords.words('english'))\n",
    "custom_stopwords = ['e.g.', 'i.e.', 'etc.', 'the', 'and', 'a', 'an', 'in', 'of', 'to'] # Add more if needed\n",
    "stop_words.update(custom_stopwords)\n",
    "\n",
    "def preprocess_text(text):\n",
    "    if isinstance(text, str):\n",
    "        # Lowercase\n",
    "        text = text.lower()\n",
    "        # Remove email addresses\n",
    "        text = re.sub(r'\\S*@\\S*\\s?', '', text)\n",
    "        # Remove non-ASCII characters\n",
    "        text = re.sub(r'[^\\x00-\\x7F]+', '', text)\n",
    "        # Remove numbers (keeping those with % $ or year format)\n",
    "        text = re.sub(r'(?<!\\d)(?<![\\$\\%])\\b\\d+\\b', '', text)\n",
    "        # Remove punctuation\n",
    "        text = text.translate(str.maketrans('', '', string.punctuation))\n",
    "        # Remove stopwords\n",
    "        text_tokens = text.split()\n",
    "        filtered_tokens = [w for w in text_tokens if not w in stop_words]\n",
    "        return \" \".join(filtered_tokens)\n",
    "    return \"\"\n",
    "\n",
    "print(\"Applying preprocessing...\")\n",
    "df['processed_resume'] = df[TEXT_COLUMN_RESUME].apply(preprocess_text)\n",
    "df['processed_job_description'] = df[TEXT_COLUMN_JOB].apply(preprocess_text)\n",
    "# Combine processed resume and job description for the model\n",
    "df['combined_text'] = df['processed_resume'] + ' ' + df['processed_job_description']\n",
    "df = df[df['combined_text'].str.len() > 0] # Remove rows with empty combined text\n",
    "print(\"Preprocessing complete.\")\n",
    "\n",
    "# Encode the categorical labels to numerical values\n",
    "label_mapping = {'No Fit': 0, 'Potential Fit': 1, 'Good Fit': 2}\n",
    "df['label_encoded'] = df[LABEL_COLUMN].map(label_mapping)\n",
    "print(f\"Unique labels and their encoding: {label_mapping}\")\n",
    "print(f\"Encoded labels: {df['label_encoded'].unique()}\")\n"
   ]
  },
  {
   "cell_type": "code",
   "execution_count": 6,
   "id": "dcb19f14-d2e6-4e36-a94d-ed496927fb05",
   "metadata": {},
   "outputs": [
    {
     "name": "stdout",
     "output_type": "stream",
     "text": [
      "Sentence-BERT model 'all-mpnet-base-v2' loaded.\n"
     ]
    },
    {
     "data": {
      "application/vnd.jupyter.widget-view+json": {
       "model_id": "0ec3ee93755c4efd91ac84cf71d84227",
       "version_major": 2,
       "version_minor": 0
      },
      "text/plain": [
       "Batches:   0%|          | 0/391 [00:00<?, ?it/s]"
      ]
     },
     "metadata": {},
     "output_type": "display_data"
    },
    {
     "name": "stdout",
     "output_type": "stream",
     "text": [
      "Sentence embeddings generated.\n"
     ]
    }
   ],
   "source": [
    "# 3. Sentence-BERT Embedding\n",
    "model_name = 'all-mpnet-base-v2'\n",
    "try:\n",
    "    model = SentenceTransformer(model_name)\n",
    "    print(f\"Sentence-BERT model '{model_name}' loaded.\")\n",
    "    embeddings = model.encode(df['combined_text'].tolist(), show_progress_bar=True, batch_size=16) # Try a smaller batch size\n",
    "    embeddings_df = pd.DataFrame(embeddings)\n",
    "    df = pd.concat([df.reset_index(drop=True), embeddings_df], axis=1)\n",
    "    print(\"Sentence embeddings generated.\")\n",
    "except Exception as e:\n",
    "    print(f\"Error loading or using Sentence-BERT model '{model_name}': {e}\")\n",
    "    exit()\n",
    "\n",
    "# Prepare data for the Naive Bayes model\n",
    "X = df.iloc[:, -768:] # Assuming embeddings are the last 768 columns\n",
    "y = df['label_encoded']"
   ]
  },
  {
   "cell_type": "code",
   "execution_count": 7,
   "id": "5d42a391-a8d9-49a8-938d-a1c5c910cbcd",
   "metadata": {},
   "outputs": [
    {
     "name": "stdout",
     "output_type": "stream",
     "text": [
      "Calculating cosine similarity between resume and job description...\n",
      "Cosine similarity calculated.\n"
     ]
    }
   ],
   "source": [
    "def calculate_similarity(row):\n",
    "    resume_embedding = row.iloc[-768:]  # Get the resume embedding\n",
    "    job_embedding = model.encode(row['processed_job_description']) # Encode job description\n",
    "    return cosine_similarity([resume_embedding], [job_embedding])[0][0]\n",
    "\n",
    "print(\"Calculating cosine similarity between resume and job description...\")\n",
    "df['similarity_score'] = df.apply(calculate_similarity, axis=1)\n",
    "print(\"Cosine similarity calculated.\")"
   ]
  },
  {
   "cell_type": "code",
   "execution_count": 8,
   "id": "7f173044-f529-47ce-b75c-934ea66323d8",
   "metadata": {},
   "outputs": [],
   "source": [
    "# Prepare data with the similarity score as a feature\n",
    "X_with_similarity_rf = pd.concat([df.iloc[:, -769:-1], df['similarity_score']], axis=1)\n",
    "y_rf = df['label_encoded']\n",
    "\n",
    "# Convert all column names to strings (important for SMOTE)\n",
    "X_with_similarity_rf.columns = X_with_similarity_rf.columns.astype(str)\n",
    "\n",
    "# Split data\n",
    "X_train_rf_sim, X_test_rf_sim, y_train_rf_sim, y_test_rf_sim = train_test_split(X_with_similarity_rf, y_rf, test_size=0.2, random_state=42)"
   ]
  },
  {
   "cell_type": "code",
   "execution_count": 9,
   "id": "5b0adff9-8992-4cc4-8655-e2eededf6ad5",
   "metadata": {},
   "outputs": [],
   "source": [
    "# Apply SMOTE to the training data\n",
    "smote_rf_sim = SMOTE(random_state=42)\n",
    "X_resampled_rf_sim, y_resampled_rf_sim = smote_rf_sim.fit_resample(X_train_rf_sim, y_train_rf_sim)"
   ]
  },
  {
   "cell_type": "code",
   "execution_count": 18,
   "id": "6b44d8ce-41d4-4bcf-94ec-5699843035b8",
   "metadata": {},
   "outputs": [
    {
     "name": "stdout",
     "output_type": "stream",
     "text": [
      "\n",
      "XGBoost with SBERT embedding and Cosine Similarity:\n",
      "              precision    recall  f1-score   support\n",
      "\n",
      "           0       0.66      0.56      0.61       658\n",
      "           1       0.31      0.35      0.33       288\n",
      "           2       0.30      0.35      0.32       303\n",
      "\n",
      "    accuracy                           0.46      1249\n",
      "   macro avg       0.42      0.42      0.42      1249\n",
      "weighted avg       0.49      0.46      0.47      1249\n",
      "\n",
      "Accuracy: 0.46277021617293834\n"
     ]
    }
   ],
   "source": [
    "# Initialize and train the XGBoost model with combined features\n",
    "xgb_model = xgb.XGBClassifier(random_state=42)\n",
    "xgb_model.fit(X_resampled_rf_sim, y_resampled_rf_sim)  # Use the numerically encoded y_train\n",
    "xgb_predictions = xgb_model.predict(X_test_rf_sim)\n",
    "\n",
    "# Evaluate the model with combined features\n",
    "print(\"\\nXGBoost with SBERT embedding and Cosine Similarity:\")\n",
    "print(classification_report(y_test_rf_sim, xgb_predictions))\n",
    "print(\"Accuracy:\", accuracy_score(y_test_rf_sim, xgb_predictions))"
   ]
  },
  {
   "cell_type": "code",
   "execution_count": 19,
   "id": "81611b78-6ddc-4a9a-a86c-89a9195be7a0",
   "metadata": {},
   "outputs": [
    {
     "data": {
      "image/png": "[encoded data removed]",
      "text/plain": [
       "<Figure size 640x480 with 2 Axes>"
      ]
     },
     "metadata": {},
     "output_type": "display_data"
    }
   ],
   "source": [
    "from sklearn.metrics import confusion_matrix, ConfusionMatrixDisplay\n",
    "import matplotlib.pyplot as plt\n",
    "\n",
    "# Generate the confusion matrix\n",
    "cm = confusion_matrix(y_test_rf_sim, xgb_predictions)\n",
    "\n",
    "# Display the confusion matrix\n",
    "disp = ConfusionMatrixDisplay(confusion_matrix=cm, display_labels=xgb_model.classes_)\n",
    "disp.plot(cmap=plt.cm.Blues)\n",
    "plt.title(\"Confusion Matrix - XGB model trained with similarity feature + SBERT Embeddings: \")\n",
    "plt.show()"
   ]
  }
 ],
 "metadata": {
  "kernelspec": {
   "display_name": "Python 3 (ipykernel)",
   "language": "python",
   "name": "python3"
  },
  "language_info": {
   "codemirror_mode": {
    "name": "ipython",
    "version": 3
   },
   "file_extension": ".py",
   "mimetype": "text/x-python",
   "name": "python",
   "nbconvert_exporter": "python",
   "pygments_lexer": "ipython3",
   "version": "3.11.11"
  }
 },
 "nbformat": 4,
 "nbformat_minor": 5
}
