{
 "cells": [
  {
   "cell_type": "code",
   "execution_count": 1,
   "id": "9f1d803c-95ed-4a75-933a-89ed2c7dabfc",
   "metadata": {},
   "outputs": [
    {
     "name": "stderr",
     "output_type": "stream",
     "text": [
      "/home/aaiteam4/anaconda3/envs/resume-ai/lib/python3.11/site-packages/requests/__init__.py:86: RequestsDependencyWarning: Unable to find acceptable character detection dependency (chardet or charset_normalizer).\n",
      "  warnings.warn(\n"
     ]
    }
   ],
   "source": [
    "from datasets import load_dataset\n",
    "import pandas as pd\n",
    "from sklearn.model_selection import train_test_split\n",
    "from sklearn.feature_extraction.text import TfidfVectorizer\n",
    "from sklearn.naive_bayes import GaussianNB, ComplementNB\n",
    "from sklearn.ensemble import RandomForestClassifier\n",
    "import xgboost as xgb\n",
    "from sklearn.metrics import classification_report, accuracy_score"
   ]
  },
  {
   "cell_type": "code",
   "execution_count": 2,
   "id": "91dfcfd6-b97f-42bf-9141-9f0d35ef69dc",
   "metadata": {},
   "outputs": [],
   "source": [
    "import nltk\n",
    "from nltk.corpus import stopwords\n",
    "try:\n",
    "    stopwords.words('english')\n",
    "except LookupError:\n",
    "    nltk.download('stopwords')\n",
    "try:\n",
    "    nltk.data.find('tokenizers/punkt')\n",
    "except nltk.downloader.DownloadError:\n",
    "    nltk.download('punkt')"
   ]
  },
  {
   "cell_type": "code",
   "execution_count": 3,
   "id": "f5b85c4b-590e-4100-b42d-46b1cb8c3baa",
   "metadata": {},
   "outputs": [],
   "source": [
    "import re\n",
    "import string"
   ]
  },
  {
   "cell_type": "code",
   "execution_count": 4,
   "id": "292950fd-c207-41d9-a57c-83a79e4c7711",
   "metadata": {},
   "outputs": [
    {
     "name": "stdout",
     "output_type": "stream",
     "text": [
      "Dataset 'cnamuangtoun/resume-job-description-fit' loaded successfully. Shape: (6241, 3)\n",
      "Column names in the DataFrame:\n",
      "Index(['resume_text', 'job_description_text', 'label'], dtype='object')\n"
     ]
    }
   ],
   "source": [
    "# 1. Get the dataset from Hugging Face\n",
    "dataset_name = \"cnamuangtoun/resume-job-description-fit\"\n",
    "try:\n",
    "    dataset = load_dataset(dataset_name)\n",
    "    df = dataset['train'].to_pandas()\n",
    "    print(f\"Dataset '{dataset_name}' loaded successfully. Shape: {df.shape}\")\n",
    "    print(\"Column names in the DataFrame:\")\n",
    "    print(df.columns)\n",
    "    # We need to identify the correct column names for text and labels\n",
    "    TEXT_COLUMN = None  # We will update this based on the output\n",
    "    LABEL_COLUMN = None # We will update this based on the output\n",
    "except Exception as e:\n",
    "    print(f\"Error loading dataset '{dataset_name}': {e}\")\n",
    "    exit()"
   ]
  },
  {
   "cell_type": "code",
   "execution_count": 5,
   "id": "dc032b4d-299b-4406-996b-c4439cfc9fba",
   "metadata": {},
   "outputs": [
    {
     "name": "stdout",
     "output_type": "stream",
     "text": [
      "Applying preprocessing...\n",
      "Preprocessing complete.\n"
     ]
    }
   ],
   "source": [
    "# 2. Preprocessing\n",
    "TEXT_COLUMN_RESUME = 'resume_text'\n",
    "TEXT_COLUMN_JOB = 'job_description_text'\n",
    "LABEL_COLUMN = 'label'\n",
    "\n",
    "stop_words = set(stopwords.words('english'))\n",
    "custom_stopwords = ['e.g.', 'i.e.', 'etc.', 'the', 'and', 'a', 'an', 'in', 'of', 'to'] # Add more if needed\n",
    "stop_words.update(custom_stopwords)\n",
    "\n",
    "def preprocess_text(text):\n",
    "    if isinstance(text, str):\n",
    "        # Lowercase\n",
    "        text = text.lower()\n",
    "        # Remove email addresses\n",
    "        text = re.sub(r'\\S*@\\S*\\s?', '', text)\n",
    "        # Remove non-ASCII characters\n",
    "        text = re.sub(r'[^\\x00-\\x7F]+', '', text)\n",
    "        # Remove numbers (keeping those with % $ or year format)\n",
    "        text = re.sub(r'(?<!\\d)(?<![\\$\\%])\\b\\d+\\b', '', text)\n",
    "        # Remove punctuation\n",
    "        text = text.translate(str.maketrans('', '', string.punctuation))\n",
    "        # Remove stopwords\n",
    "        text_tokens = text.split()\n",
    "        filtered_tokens = [w for w in text_tokens if not w in stop_words]\n",
    "        return \" \".join(filtered_tokens)\n",
    "    return \"\"\n",
    "\n",
    "print(\"Applying preprocessing...\")\n",
    "df['processed_resume'] = df[TEXT_COLUMN_RESUME].apply(preprocess_text)\n",
    "df['processed_job_description'] = df[TEXT_COLUMN_JOB].apply(preprocess_text)\n",
    "# Combine processed resume and job description for the model\n",
    "df['combined_text'] = df['processed_resume'] + ' ' + df['processed_job_description']\n",
    "df = df[df['combined_text'].str.len() > 0] # Remove rows with empty combined text\n",
    "print(\"Preprocessing complete.\")"
   ]
  },
  {
   "cell_type": "code",
   "execution_count": 6,
   "id": "d7ea9a3c-865b-499c-a3a8-a4c55a6c7003",
   "metadata": {},
   "outputs": [],
   "source": [
    "# Split the data\n",
    "X_train, X_test, y_train, y_test = train_test_split(df['combined_text'], df[LABEL_COLUMN], test_size=0.2, random_state=42)\n",
    "\n",
    "# Text vectorization using TF-IDF\n",
    "tfidf_vectorizer = TfidfVectorizer(stop_words='english')\n",
    "X_train_tfidf = tfidf_vectorizer.fit_transform(X_train)\n",
    "X_test_tfidf = tfidf_vectorizer.transform(X_test)\n",
    "\n",
    "# Convert TF-IDF sparse matrix to dense array for GaussianNB\n",
    "X_train_dense = X_train_tfidf.toarray()\n",
    "X_test_dense = X_test_tfidf.toarray()"
   ]
  },
  {
   "cell_type": "code",
   "execution_count": 7,
   "id": "ff56cb34-e6dc-4524-8ed4-770fa34e81d7",
   "metadata": {},
   "outputs": [
    {
     "name": "stdout",
     "output_type": "stream",
     "text": [
      "Gaussian Naive Bayes:\n",
      "               precision    recall  f1-score   support\n",
      "\n",
      "     Good Fit       0.52      0.82      0.63       303\n",
      "       No Fit       0.74      0.28      0.40       658\n",
      "Potential Fit       0.37      0.68      0.48       288\n",
      "\n",
      "     accuracy                           0.50      1249\n",
      "    macro avg       0.55      0.59      0.51      1249\n",
      " weighted avg       0.60      0.50      0.48      1249\n",
      "\n",
      "Accuracy: 0.5012009607686149\n"
     ]
    }
   ],
   "source": [
    "# Initialize and train the models\n",
    "gnb = GaussianNB()\n",
    "gnb.fit(X_train_dense, y_train)\n",
    "gnb_predictions = gnb.predict(X_test_dense)\n",
    "\n",
    "\n",
    "# Evaluate the models\n",
    "print(\"Gaussian Naive Bayes:\")\n",
    "print(classification_report(y_test, gnb_predictions))\n",
    "print(\"Accuracy:\", accuracy_score(y_test, gnb_predictions))"
   ]
  },
  {
   "cell_type": "code",
   "execution_count": 8,
   "id": "6a91ab52-5738-4ea8-a30a-f7f16ee14a44",
   "metadata": {},
   "outputs": [
    {
     "name": "stdout",
     "output_type": "stream",
     "text": [
      "\n",
      "Complement Naive Bayes:\n",
      "               precision    recall  f1-score   support\n",
      "\n",
      "     Good Fit       0.50      0.29      0.37       303\n",
      "       No Fit       0.58      0.84      0.68       658\n",
      "Potential Fit       0.46      0.18      0.26       288\n",
      "\n",
      "     accuracy                           0.55      1249\n",
      "    macro avg       0.51      0.44      0.44      1249\n",
      " weighted avg       0.53      0.55      0.51      1249\n",
      "\n",
      "Accuracy: 0.5540432345876701\n"
     ]
    }
   ],
   "source": [
    "cnb = ComplementNB()\n",
    "cnb.fit(X_train_tfidf, y_train)\n",
    "cnb_predictions = cnb.predict(X_test_tfidf)\n",
    "\n",
    "print(\"\\nComplement Naive Bayes:\")\n",
    "print(classification_report(y_test, cnb_predictions))\n",
    "print(\"Accuracy:\", accuracy_score(y_test, cnb_predictions))"
   ]
  },
  {
   "cell_type": "code",
   "execution_count": 9,
   "id": "b8b78f4d-a10d-45e9-ad73-c4f04358043c",
   "metadata": {},
   "outputs": [
    {
     "name": "stdout",
     "output_type": "stream",
     "text": [
      "\n",
      "Random Forest:\n",
      "               precision    recall  f1-score   support\n",
      "\n",
      "     Good Fit       0.60      0.57      0.59       303\n",
      "       No Fit       0.66      0.79      0.72       658\n",
      "Potential Fit       0.57      0.34      0.43       288\n",
      "\n",
      "     accuracy                           0.63      1249\n",
      "    macro avg       0.61      0.57      0.58      1249\n",
      " weighted avg       0.62      0.63      0.62      1249\n",
      "\n",
      "Accuracy: 0.633306645316253\n"
     ]
    }
   ],
   "source": [
    "rf = RandomForestClassifier(random_state=42)\n",
    "rf.fit(X_train_tfidf, y_train)\n",
    "rf_predictions = rf.predict(X_test_tfidf)\n",
    "\n",
    "print(\"\\nRandom Forest:\")\n",
    "print(classification_report(y_test, rf_predictions))\n",
    "print(\"Accuracy:\", accuracy_score(y_test, rf_predictions))"
   ]
  },
  {
   "cell_type": "code",
   "execution_count": 7,
   "id": "d286ddc7-3623-4ff7-bfcf-ea561b9c76dd",
   "metadata": {},
   "outputs": [
    {
     "name": "stdout",
     "output_type": "stream",
     "text": [
      "\n",
      "XGBoost:\n",
      "              precision    recall  f1-score   support\n",
      "\n",
      "           0       0.70      0.80      0.74       658\n",
      "           1       0.60      0.42      0.49       288\n",
      "           2       0.68      0.66      0.67       303\n",
      "\n",
      "    accuracy                           0.68      1249\n",
      "   macro avg       0.66      0.62      0.63      1249\n",
      "weighted avg       0.67      0.68      0.67      1249\n",
      "\n",
      "Accuracy: 0.6765412329863891\n"
     ]
    }
   ],
   "source": [
    "label_mapping = {'No Fit': 0, 'Potential Fit': 1, 'Good Fit': 2}\n",
    "y_train_encoded = y_train.map(label_mapping)\n",
    "\n",
    "y_test_encoded = y_test.map(label_mapping)\n",
    "\n",
    "\n",
    "xgb_classifier = xgb.XGBClassifier(random_state=42,n_estimators = 100,learning_rate= 0.01,max_depth =15)\n",
    "xgb_classifier.fit(X_train_tfidf, y_train_encoded)\n",
    "xgb_predictions = xgb_classifier.predict(X_test_tfidf)\n",
    "\n",
    "print(\"\\nXGBoost:\")\n",
    "print(classification_report(y_test_encoded, xgb_predictions))\n",
    "print(\"Accuracy:\", accuracy_score(y_test_encoded, xgb_predictions))"
   ]
  },
  {
   "cell_type": "code",
   "execution_count": 10,
   "id": "f18deab0-23f5-46a5-9c6d-3ba5c40e47be",
   "metadata": {},
   "outputs": [
    {
     "data": {
      "image/png": "[encoded data removed]",
      "text/plain": [
       "<Figure size 640x480 with 2 Axes>"
      ]
     },
     "metadata": {},
     "output_type": "display_data"
    }
   ],
   "source": [
    "from sklearn.metrics import confusion_matrix, ConfusionMatrixDisplay\n",
    "import matplotlib.pyplot as plt\n",
    "\n",
    "# Generate the confusion matrix\n",
    "cm = confusion_matrix(y_test_encoded, xgb_predictions)\n",
    "\n",
    "# Display the confusion matrix\n",
    "disp = ConfusionMatrixDisplay(confusion_matrix=cm, display_labels=xgb_classifier.classes_)\n",
    "disp.plot(cmap=plt.cm.Blues)\n",
    "plt.title(\"Confusion Matrix - XGBoost with TF-IDF\")\n",
    "plt.show()"
   ]
  }
 ],
 "metadata": {
  "kernelspec": {
   "display_name": "Python 3 (ipykernel)",
   "language": "python",
   "name": "python3"
  },
  "language_info": {
   "codemirror_mode": {
    "name": "ipython",
    "version": 3
   },
   "file_extension": ".py",
   "mimetype": "text/x-python",
   "name": "python",
   "nbconvert_exporter": "python",
   "pygments_lexer": "ipython3",
   "version": "3.11.11"
  }
 },
 "nbformat": 4,
 "nbformat_minor": 5
}
