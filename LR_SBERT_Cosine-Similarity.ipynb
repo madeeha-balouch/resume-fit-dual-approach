{
 "cells": [
  {
   "cell_type": "code",
   "execution_count": 1,
   "id": "fbba650f-4092-4ab5-b5b3-31237aa6a5d0",
   "metadata": {},
   "outputs": [
    {
     "name": "stderr",
     "output_type": "stream",
     "text": [
      "/home/aaiteam4/anaconda3/envs/resume-ai/lib/python3.11/site-packages/requests/__init__.py:86: RequestsDependencyWarning: Unable to find acceptable character detection dependency (chardet or charset_normalizer).\n",
      "  warnings.warn(\n"
     ]
    }
   ],
   "source": [
    "import os\n",
    "os.environ[\"TOKENIZERS_PARALLELISM\"] = \"false\"\n",
    "from sklearn.model_selection import GridSearchCV\n",
    "import pandas as pd\n",
    "from imblearn.over_sampling import SMOTE\n",
    "from collections import Counter\n",
    "from datasets import load_dataset\n",
    "from sklearn.metrics.pairwise import cosine_similarity\n",
    "import re\n",
    "import string\n",
    "import nltk\n",
    "from nltk.corpus import stopwords\n",
    "from sentence_transformers import SentenceTransformer\n",
    "from sklearn.model_selection import train_test_split\n",
    "from sklearn.naive_bayes import GaussianNB\n",
    "from sklearn.metrics import (\n",
    "    accuracy_score,\n",
    "    precision_score,\n",
    "    recall_score,\n",
    "    f1_score,\n",
    "    confusion_matrix,\n",
    "    classification_report,\n",
    ")\n",
    "import numpy as np\n",
    "\n",
    "# Download necessary NLTK data (run this once)\n",
    "try:\n",
    "    stopwords.words('english')\n",
    "except LookupError:\n",
    "    nltk.download('stopwords')\n",
    "try:\n",
    "    nltk.data.find('tokenizers/punkt')\n",
    "except nltk.downloader.DownloadError:\n",
    "    nltk.download('punkt')"
   ]
  },
  {
   "cell_type": "code",
   "execution_count": 2,
   "id": "94676855-0101-4901-987e-c481f3d7c705",
   "metadata": {},
   "outputs": [],
   "source": [
    "from sklearn.linear_model import LogisticRegression"
   ]
  },
  {
   "cell_type": "code",
   "execution_count": 3,
   "id": "366fc005-4736-4ce8-b443-bfa4b7307193",
   "metadata": {},
   "outputs": [
    {
     "name": "stdout",
     "output_type": "stream",
     "text": [
      "Dataset 'cnamuangtoun/resume-job-description-fit' loaded successfully. Shape: (6241, 3)\n",
      "Column names in the DataFrame:\n",
      "Index(['resume_text', 'job_description_text', 'label'], dtype='object')\n"
     ]
    }
   ],
   "source": [
    "# 1. Get the dataset from Hugging Face\n",
    "dataset_name = \"cnamuangtoun/resume-job-description-fit\"\n",
    "try:\n",
    "    dataset = load_dataset(dataset_name)\n",
    "    df = dataset['train'].to_pandas()\n",
    "    print(f\"Dataset '{dataset_name}' loaded successfully. Shape: {df.shape}\")\n",
    "    print(\"Column names in the DataFrame:\")\n",
    "    print(df.columns)\n",
    "    # We need to identify the correct column names for text and labels\n",
    "    TEXT_COLUMN = None  # We will update this based on the output\n",
    "    LABEL_COLUMN = None # We will update this based on the output\n",
    "except Exception as e:\n",
    "    print(f\"Error loading dataset '{dataset_name}': {e}\")\n",
    "    exit()"
   ]
  },
  {
   "cell_type": "code",
   "execution_count": 4,
   "id": "a6826090-fee2-4675-b617-28500d4665ca",
   "metadata": {},
   "outputs": [
    {
     "name": "stdout",
     "output_type": "stream",
     "text": [
      "Applying preprocessing...\n",
      "Preprocessing complete.\n",
      "Unique labels and their encoding: {'No Fit': 0, 'Potential Fit': 1, 'Good Fit': 2}\n",
      "Encoded labels: [0 1 2]\n"
     ]
    }
   ],
   "source": [
    "# 2. Preprocessing\n",
    "TEXT_COLUMN_RESUME = 'resume_text'\n",
    "TEXT_COLUMN_JOB = 'job_description_text'\n",
    "LABEL_COLUMN = 'label'\n",
    "\n",
    "stop_words = set(stopwords.words('english'))\n",
    "custom_stopwords = ['e.g.', 'i.e.', 'etc.', 'the', 'and', 'a', 'an', 'in', 'of', 'to'] # Add more if needed\n",
    "stop_words.update(custom_stopwords)\n",
    "\n",
    "def preprocess_text(text):\n",
    "    if isinstance(text, str):\n",
    "        # Lowercase\n",
    "        text = text.lower()\n",
    "        # Remove email addresses\n",
    "        text = re.sub(r'\\S*@\\S*\\s?', '', text)\n",
    "        # Remove non-ASCII characters\n",
    "        text = re.sub(r'[^\\x00-\\x7F]+', '', text)\n",
    "        # Remove numbers (keeping those with % $ or year format)\n",
    "        text = re.sub(r'(?<!\\d)(?<![\\$\\%])\\b\\d+\\b', '', text)\n",
    "        # Remove punctuation\n",
    "        text = text.translate(str.maketrans('', '', string.punctuation))\n",
    "        # Remove stopwords\n",
    "        text_tokens = text.split()\n",
    "        filtered_tokens = [w for w in text_tokens if not w in stop_words]\n",
    "        return \" \".join(filtered_tokens)\n",
    "    return \"\"\n",
    "\n",
    "print(\"Applying preprocessing...\")\n",
    "df['processed_resume'] = df[TEXT_COLUMN_RESUME].apply(preprocess_text)\n",
    "df['processed_job_description'] = df[TEXT_COLUMN_JOB].apply(preprocess_text)\n",
    "# Combine processed resume and job description for the model\n",
    "df['combined_text'] = df['processed_resume'] + ' ' + df['processed_job_description']\n",
    "df = df[df['combined_text'].str.len() > 0] # Remove rows with empty combined text\n",
    "print(\"Preprocessing complete.\")\n",
    "\n",
    "# Encode the categorical labels to numerical values\n",
    "label_mapping = {'No Fit': 0, 'Potential Fit': 1, 'Good Fit': 2}\n",
    "df['label_encoded'] = df[LABEL_COLUMN].map(label_mapping)\n",
    "print(f\"Unique labels and their encoding: {label_mapping}\")\n",
    "print(f\"Encoded labels: {df['label_encoded'].unique()}\")\n"
   ]
  },
  {
   "cell_type": "code",
   "execution_count": 5,
   "id": "8ecd53c8-2d9a-400f-a43b-973cf44cfe44",
   "metadata": {},
   "outputs": [
    {
     "name": "stdout",
     "output_type": "stream",
     "text": [
      "Sentence-BERT model 'all-mpnet-base-v2' loaded.\n"
     ]
    },
    {
     "data": {
      "application/vnd.jupyter.widget-view+json": {
       "model_id": "6f65f614d7464ffe8e0d7df0253c3e09",
       "version_major": 2,
       "version_minor": 0
      },
      "text/plain": [
       "Batches:   0%|          | 0/391 [00:00<?, ?it/s]"
      ]
     },
     "metadata": {},
     "output_type": "display_data"
    },
    {
     "name": "stdout",
     "output_type": "stream",
     "text": [
      "Sentence embeddings generated.\n"
     ]
    }
   ],
   "source": [
    "# 3. Sentence-BERT Embedding\n",
    "model_name = 'all-mpnet-base-v2'\n",
    "try:\n",
    "    model = SentenceTransformer(model_name)\n",
    "    print(f\"Sentence-BERT model '{model_name}' loaded.\")\n",
    "    embeddings = model.encode(df['combined_text'].tolist(), show_progress_bar=True, batch_size=16) # Try a smaller batch size\n",
    "    embeddings_df = pd.DataFrame(embeddings)\n",
    "    df = pd.concat([df.reset_index(drop=True), embeddings_df], axis=1)\n",
    "    print(\"Sentence embeddings generated.\")\n",
    "except Exception as e:\n",
    "    print(f\"Error loading or using Sentence-BERT model '{model_name}': {e}\")\n",
    "    exit()\n",
    "\n",
    "# Prepare data for the Naive Bayes model\n",
    "X = df.iloc[:, -768:] # Assuming embeddings are the last 768 columns\n",
    "y = df['label_encoded']"
   ]
  },
  {
   "cell_type": "code",
   "execution_count": 6,
   "id": "bd9e94b9-f975-4a89-bbdc-f7179d748260",
   "metadata": {},
   "outputs": [
    {
     "name": "stdout",
     "output_type": "stream",
     "text": [
      "Calculating cosine similarity between resume and job description...\n",
      "Cosine similarity calculated.\n"
     ]
    }
   ],
   "source": [
    "def calculate_similarity(row):\n",
    "    resume_embedding = row.iloc[-768:]  # Get the resume embedding\n",
    "    job_embedding = model.encode(row['processed_job_description']) # Encode job description\n",
    "    return cosine_similarity([resume_embedding], [job_embedding])[0][0]\n",
    "\n",
    "print(\"Calculating cosine similarity between resume and job description...\")\n",
    "df['similarity_score'] = df.apply(calculate_similarity, axis=1)\n",
    "print(\"Cosine similarity calculated.\")"
   ]
  },
  {
   "cell_type": "code",
   "execution_count": 7,
   "id": "4b232f74-b55f-4f6a-9603-88ffd8658d51",
   "metadata": {},
   "outputs": [],
   "source": [
    "# Prepare data with the similarity score as a feature\n",
    "X_with_similarity_lr = pd.concat([df.iloc[:, -769:-1], df['similarity_score']], axis=1)\n",
    "y_lr = df['label_encoded']\n",
    "\n",
    "# Convert all column names to strings (important for SMOTE)\n",
    "X_with_similarity_lr.columns = X_with_similarity_lr.columns.astype(str)\n",
    "\n",
    "# Split data\n",
    "X_train_lr_sim, X_test_lr_sim, y_train_lr_sim, y_test_lr_sim = train_test_split(X_with_similarity_lr, y_lr, test_size=0.2, random_state=42)"
   ]
  },
  {
   "cell_type": "code",
   "execution_count": 8,
   "id": "4a99d568-0570-480c-94d5-1d816ed61794",
   "metadata": {},
   "outputs": [],
   "source": [
    "# Apply SMOTE to the training data\n",
    "smote_lr_sim = SMOTE(random_state=42)\n",
    "X_resampled_lr_sim, y_resampled_lr_sim = smote_lr_sim.fit_resample(X_train_lr_sim, y_train_lr_sim)"
   ]
  },
  {
   "cell_type": "code",
   "execution_count": 9,
   "id": "05ef1459-7551-42f1-b3ce-a8bf8232cac9",
   "metadata": {},
   "outputs": [
    {
     "name": "stdout",
     "output_type": "stream",
     "text": [
      "\n",
      "Training Logistic Regression model with features......\n",
      "Logistic Regression model trained with features.\n",
      "\n",
      "Classification Report (Logistic Regression with  features):\n",
      "              precision    recall  f1-score   support\n",
      "\n",
      "           0       0.68      0.53      0.59       658\n",
      "           1       0.30      0.30      0.30       288\n",
      "           2       0.36      0.53      0.43       303\n",
      "\n",
      "    accuracy                           0.48      1249\n",
      "   macro avg       0.45      0.45      0.44      1249\n",
      "weighted avg       0.51      0.48      0.49      1249\n",
      "\n"
     ]
    }
   ],
   "source": [
    "# Train Logistic Regression model\n",
    "lr_model_with_sim = LogisticRegression(solver='liblinear', random_state=42, max_iter=1000)\n",
    "print(\"\\nTraining Logistic Regression model with features......\")\n",
    "lr_model_with_sim.fit(X_resampled_lr_sim, y_resampled_lr_sim)\n",
    "print(\"Logistic Regression model trained with features.\")\n",
    "\n",
    "# Make predictions\n",
    "y_pred_lr_sim = lr_model_with_sim.predict(X_test_lr_sim)\n",
    "\n",
    "# Evaluate the model\n",
    "print(\"\\nClassification Report (Logistic Regression with  features):\")\n",
    "print(classification_report(y_test_lr_sim, y_pred_lr_sim, zero_division=0))"
   ]
  },
  {
   "cell_type": "code",
   "execution_count": 11,
   "id": "5e0ab13f-9560-4bf4-a268-974d6d4f1bba",
   "metadata": {},
   "outputs": [
    {
     "data": {
      "image/png": "[encoded data removed]",
      "text/plain": [
       "<Figure size 640x480 with 2 Axes>"
      ]
     },
     "metadata": {},
     "output_type": "display_data"
    }
   ],
   "source": [
    "from sklearn.metrics import confusion_matrix, ConfusionMatrixDisplay\n",
    "import matplotlib.pyplot as plt\n",
    "\n",
    "# Generate the confusion matrix\n",
    "cm = confusion_matrix(y_test_lr_sim,y_pred_lr_sim)\n",
    "\n",
    "# Display the confusion matrix\n",
    "disp = ConfusionMatrixDisplay(confusion_matrix=cm, display_labels=lr_model_with_sim.classes_)\n",
    "disp.plot(cmap=plt.cm.Blues)\n",
    "plt.title(\"Confusion Matrix - Logistic Regression model trained with similarity feature + SBERT Embeddings: \")\n",
    "plt.show()"
   ]
  }
 ],
 "metadata": {
  "kernelspec": {
   "display_name": "Python 3 (ipykernel)",
   "language": "python",
   "name": "python3"
  },
  "language_info": {
   "codemirror_mode": {
    "name": "ipython",
    "version": 3
   },
   "file_extension": ".py",
   "mimetype": "text/x-python",
   "name": "python",
   "nbconvert_exporter": "python",
   "pygments_lexer": "ipython3",
   "version": "3.11.11"
  }
 },
 "nbformat": 4,
 "nbformat_minor": 5
}
