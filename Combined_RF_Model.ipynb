{
 "cells": [
  {
   "cell_type": "code",
   "execution_count": null,
   "id": "8d086ad0",
   "metadata": {},
   "outputs": [],
   "source": [
    "# Combined TF-IDF + Semantic Similarity + Random Forest Classifier"
   ]
  },
  {
   "cell_type": "code",
   "execution_count": null,
   "id": "2ac34f2b",
   "metadata": {},
   "outputs": [],
   "source": [
    "\n",
    "# Required Libraries\n",
    "import pandas as pd\n",
    "import numpy as np\n",
    "from sklearn.feature_extraction.text import TfidfVectorizer\n",
    "from sklearn.ensemble import RandomForestClassifier\n",
    "from sklearn.preprocessing import LabelEncoder, StandardScaler\n",
    "from sklearn.pipeline import make_pipeline\n",
    "from sklearn.metrics import classification_report, confusion_matrix\n",
    "from sentence_transformers import SentenceTransformer\n",
    "from sklearn.metrics.pairwise import cosine_similarity\n"
   ]
  },
  {
   "cell_type": "code",
   "execution_count": null,
   "id": "d5ba9f18",
   "metadata": {},
   "outputs": [],
   "source": [
    "\n",
    "# Load your dataset (replace with actual data loading logic)\n",
    "# Example: train_data = pd.read_csv('train.csv'), or from HuggingFace or existing DataFrame\n",
    "\n",
    "# Assumes: train_data and test_data contain 'resume_text', 'job_description_text', and 'label' columns\n"
   ]
  },
  {
   "cell_type": "code",
   "execution_count": null,
   "id": "32016964",
   "metadata": {},
   "outputs": [],
   "source": [
    "\n",
    "# Preprocessing\n",
    "def preprocess_text(text):\n",
    "    return text.lower().strip()\n",
    "\n",
    "train_data['resume_text'] = train_data['resume_text'].apply(preprocess_text)\n",
    "train_data['job_description_text'] = train_data['job_description_text'].apply(preprocess_text)\n",
    "test_data['resume_text'] = test_data['resume_text'].apply(preprocess_text)\n",
    "test_data['job_description_text'] = test_data['job_description_text'].apply(preprocess_text)\n"
   ]
  },
  {
   "cell_type": "code",
   "execution_count": null,
   "id": "3c3e6076",
   "metadata": {},
   "outputs": [],
   "source": [
    "\n",
    "# TF-IDF Features\n",
    "vectorizer = TfidfVectorizer(max_features=5000)\n",
    "train_combined_text = (train_data['resume_text'] + \" \" + train_data['job_description_text']).tolist()\n",
    "test_combined_text = (test_data['resume_text'] + \" \" + test_data['job_description_text']).tolist()\n",
    "X_tfidf_train = vectorizer.fit_transform(train_combined_text)\n",
    "X_tfidf_test = vectorizer.transform(test_combined_text)\n"
   ]
  },
  {
   "cell_type": "code",
   "execution_count": null,
   "id": "9465c591",
   "metadata": {},
   "outputs": [],
   "source": [
    "\n",
    "# Semantic Similarity Features\n",
    "embedder = SentenceTransformer('all-MiniLM-L6-v2')\n",
    "resume_embeds = embedder.encode(test_data['resume_text'].tolist(), convert_to_tensor=False)\n",
    "jd_embeds = embedder.encode(test_data['job_description_text'].tolist(), convert_to_tensor=False)\n",
    "similarity_scores = np.diag(cosine_similarity(resume_embeds, jd_embeds)).reshape(-1, 1)\n"
   ]
  },
  {
   "cell_type": "code",
   "execution_count": null,
   "id": "767c5ace",
   "metadata": {},
   "outputs": [],
   "source": [
    "\n",
    "# Label encoding\n",
    "label_encoder = LabelEncoder()\n",
    "y_train = label_encoder.fit_transform(train_data['label'])\n",
    "y_test = label_encoder.transform(test_data['label'])\n"
   ]
  },
  {
   "cell_type": "code",
   "execution_count": null,
   "id": "be5c5606",
   "metadata": {},
   "outputs": [],
   "source": [
    "\n",
    "# Combine TF-IDF + semantic similarity\n",
    "X_combined_train = np.hstack([X_tfidf_train.toarray(), np.zeros((X_tfidf_train.shape[0], 1))])  # Pad training\n",
    "X_combined_test = np.hstack([X_tfidf_test.toarray(), similarity_scores])  # Add similarity score to test set\n"
   ]
  },
  {
   "cell_type": "code",
   "execution_count": null,
   "id": "ddf0e013",
   "metadata": {},
   "outputs": [],
   "source": [
    "\n",
    "# Train Random Forest Classifier\n",
    "rf_model = RandomForestClassifier(n_estimators=100, random_state=42)\n",
    "rf_model.fit(X_combined_train, y_train)\n",
    "\n",
    "# Evaluate\n",
    "y_pred = rf_model.predict(X_combined_test)\n",
    "print(classification_report(y_test, y_pred, target_names=label_encoder.classes_))\n",
    "print(\"Confusion Matrix:\")\n",
    "print(confusion_matrix(y_test, y_pred))\n"
   ]
  }
 ],
 "metadata": {},
 "nbformat": 4,
 "nbformat_minor": 5
}
